{
 "cells": [
  {
   "cell_type": "code",
   "execution_count": 10,
   "id": "bfd366d4-7dd4-4383-afcf-bddfd7f9e06a",
   "metadata": {},
   "outputs": [],
   "source": [
    "import os\n",
    "import numpy as np\n",
    "import pandas as pd\n",
    "from tqdm import tqdm, trange\n",
    "import torch\n",
    "import matplotlib.pyplot as plt\n",
    "import pickle5 as pickle\n",
    "import plotly.express as px\n",
    "import itertools\n",
    "import argparse\n",
    "import scipy.stats\n",
    "import scipy.special as special\n",
    "from typing import Dict, List, Any, Tuple\n",
    "\n",
    "from subset_utils import *"
   ]
  },
  {
   "cell_type": "code",
   "execution_count": 11,
   "id": "76702223-c872-4db7-b7d8-9321522fb8c4",
   "metadata": {},
   "outputs": [],
   "source": [
    "from collections import OrderedDict\n",
    "\n",
    "def order_dict(d):\n",
    "    order_of_keys = sorted(list(d.keys()))\n",
    "    list_of_tuples = [(key, d[key]) for key in order_of_keys]\n",
    "    return OrderedDict(list_of_tuples)"
   ]
  },
  {
   "cell_type": "code",
   "execution_count": 12,
   "id": "d465da40-56e2-41c3-b21c-18d2bf5e33ec",
   "metadata": {},
   "outputs": [],
   "source": [
    "seed_everything(42) # [\"1685001853\", \"3960970220\", \"2895201892\"]"
   ]
  },
  {
   "cell_type": "code",
   "execution_count": 13,
   "id": "8ca132a3-9267-4347-9039-96b7adc658cb",
   "metadata": {},
   "outputs": [],
   "source": [
    "i2s_1 = read_pickle(\"../scores/83256541/cogs/idx_to_sentences.pickle\")\n",
    "i2s_1 = order_dict(i2s_1)\n",
    "i2s_1 = str(i2s_1)"
   ]
  },
  {
   "cell_type": "code",
   "execution_count": 14,
   "id": "06840f72-0270-4151-a2a7-6567cae10404",
   "metadata": {},
   "outputs": [],
   "source": [
    "i2s_2 = read_pickle(\"../scores/4190663204/cogs/idx_to_sentences.pickle\")\n",
    "i2s_2 = order_dict(i2s_2)\n",
    "i2s_2 = str(i2s_2)"
   ]
  },
  {
   "cell_type": "code",
   "execution_count": 15,
   "id": "3e65e61a-49f9-415b-ab88-9047de608508",
   "metadata": {},
   "outputs": [],
   "source": [
    "i2s_3 = read_pickle(\"../scores/3926193344/cogs/idx_to_sentences.pickle\")\n",
    "i2s_3 = order_dict(i2s_3)\n",
    "i2s_3 = str(i2s_3)"
   ]
  },
  {
   "cell_type": "code",
   "execution_count": 16,
   "id": "02ea190a-9434-4783-b94d-6d02e0cbf49b",
   "metadata": {},
   "outputs": [
    {
     "name": "stdout",
     "output_type": "stream",
     "text": [
      "the hexadecimal equivalent of sha256 is :  50ed3458d37d2506e9f913d663527e30dcc9d2478f0154a59d275cca82482a5f\n",
      "the hexadecimal equivalent of sha256 is :  50ed3458d37d2506e9f913d663527e30dcc9d2478f0154a59d275cca82482a5f\n",
      "the hexadecimal equivalent of sha256 is :  50ed3458d37d2506e9f913d663527e30dcc9d2478f0154a59d275cca82482a5f\n"
     ]
    }
   ],
   "source": [
    "import hashlib\n",
    "\n",
    "result_1 = hashlib.sha256(i2s_1.encode())\n",
    "result_2 = hashlib.sha256(i2s_2.encode())\n",
    "result_3 = hashlib.sha256(i2s_3.encode())\n",
    "\n",
    "print('the hexadecimal equivalent of sha256 is : ', result_1.hexdigest())\n",
    "print('the hexadecimal equivalent of sha256 is : ', result_2.hexdigest())\n",
    "print('the hexadecimal equivalent of sha256 is : ', result_3.hexdigest())"
   ]
  }
 ],
 "metadata": {
  "kernelspec": {
   "display_name": "Python 3 (ipykernel)",
   "language": "python",
   "name": "python3"
  },
  "language_info": {
   "codemirror_mode": {
    "name": "ipython",
    "version": 3
   },
   "file_extension": ".py",
   "mimetype": "text/x-python",
   "name": "python",
   "nbconvert_exporter": "python",
   "pygments_lexer": "ipython3",
   "version": "3.7.16"
  }
 },
 "nbformat": 4,
 "nbformat_minor": 5
}
