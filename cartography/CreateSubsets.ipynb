{
 "cells": [
  {
   "cell_type": "code",
   "execution_count": 1,
   "id": "3e9e3905-0e5f-4612-a235-a90070b44d72",
   "metadata": {},
   "outputs": [],
   "source": [
    "import os\n",
    "import numpy as np\n",
    "import pandas as pd\n",
    "from tqdm import tqdm, trange\n",
    "import torch\n",
    "import matplotlib.pyplot as plt\n",
    "import pickle5 as pickle\n",
    "import plotly.express as px\n",
    "import itertools\n",
    "import argparse\n",
    "import scipy.stats\n",
    "import scipy.special as special\n",
    "from typing import Dict, List, Any, Tuple\n",
    "\n",
    "from subset_utils import *"
   ]
  },
  {
   "cell_type": "code",
   "execution_count": 2,
   "id": "ef4e3333-bca2-48d7-9a17-6985d14512d5",
   "metadata": {},
   "outputs": [],
   "source": [
    "seed_everything(42)"
   ]
  },
  {
   "cell_type": "code",
   "execution_count": 3,
   "id": "03930e9c-0c7e-4139-8625-d16b3ef96ad9",
   "metadata": {},
   "outputs": [
    {
     "data": {
      "text/plain": [
       "'/scratch/users/oince22/hpc_run/data-cartography-for-compositionality/code/dataset_gen/transformer_generalization/cartography'"
      ]
     },
     "execution_count": 3,
     "metadata": {},
     "output_type": "execute_result"
    }
   ],
   "source": [
    "os.getcwd()"
   ]
  },
  {
   "cell_type": "code",
   "execution_count": 4,
   "id": "d815c3c8-03a2-4918-a479-36b724e933e3",
   "metadata": {},
   "outputs": [
    {
     "name": "stdout",
     "output_type": "stream",
     "text": [
      "('1685001853/cfq', 20)\n",
      "('3960970220/cfq', 20)\n",
      "('2895201892/cfq', 20)\n",
      "('83256541/cogs', 10)\n",
      "('4190663204/cogs', 10)\n",
      "('3926193344/cogs', 10)\n",
      "('42/pcfg', 140)\n"
     ]
    }
   ],
   "source": [
    "for i in dnames_cepochs():\n",
    "    print(i)"
   ]
  },
  {
   "cell_type": "code",
   "execution_count": 5,
   "id": "64876b97-6358-4d59-82c2-115d6710a8e6",
   "metadata": {},
   "outputs": [
    {
     "data": {
      "text/plain": [
       "[('42/pcfg', 140)]"
      ]
     },
     "execution_count": 5,
     "metadata": {},
     "output_type": "execute_result"
    }
   ],
   "source": [
    "DNAMES_N_CEPOCHS = dnames_cepochs()\n",
    "DNAMES_N_CEPOCHS = [t for t in DNAMES_N_CEPOCHS if \"pcfg\" in t[0]]\n",
    "DNAMES_N_CEPOCHS"
   ]
  },
  {
   "cell_type": "code",
   "execution_count": 6,
   "id": "da200af8-580d-494f-a37c-daa06ff2172e",
   "metadata": {},
   "outputs": [
    {
     "name": "stdout",
     "output_type": "stream",
     "text": [
      "Starting reading of training dynamics...\n"
     ]
    },
    {
     "name": "stderr",
     "output_type": "stream",
     "text": [
      "100%|██████████| 1169184/1169184 [34:30<00:00, 564.61it/s]\n"
     ]
    },
    {
     "name": "stdout",
     "output_type": "stream",
     "text": [
      "Finished reading of training dynamics.\n",
      "Starting processing scores for Pandas DataFrames...\n"
     ]
    },
    {
     "name": "stderr",
     "output_type": "stream",
     "text": [
      "100%|██████████| 9353472/9353472 [02:31<00:00, 61886.31it/s] \n"
     ]
    },
    {
     "name": "stdout",
     "output_type": "stream",
     "text": [
      "Finished processing scores for Pandas DataFrames.\n",
      "Further processing of examples for length and rarity stats...\n"
     ]
    },
    {
     "name": "stderr",
     "output_type": "stream",
     "text": [
      "100%|██████████| 82168/82168 [00:01<00:00, 80884.76it/s] \n",
      "100%|██████████| 82168/82168 [00:02<00:00, 39331.13it/s]\n"
     ]
    },
    {
     "name": "stdout",
     "output_type": "stream",
     "text": [
      "Finished calculating rarity and length.\n",
      "Starting calculating confidence and variability stats over epochs...\n"
     ]
    },
    {
     "name": "stderr",
     "output_type": "stream",
     "text": [
      "100%|██████████| 82168/82168 [00:16<00:00, 4847.04it/s]\n"
     ]
    },
    {
     "name": "stdout",
     "output_type": "stream",
     "text": [
      "Finished calculating statistics.\n"
     ]
    },
    {
     "name": "stderr",
     "output_type": "stream",
     "text": [
      "100%|██████████| 41084/41084 [00:02<00:00, 16984.71it/s]\n",
      "  0%|          | 0/41084 [00:00<?, ?it/s]\n"
     ]
    },
    {
     "name": "stdout",
     "output_type": "stream",
     "text": [
      "subset_idx: 41084\n"
     ]
    },
    {
     "name": "stderr",
     "output_type": "stream",
     "text": [
      "100%|██████████| 41084/41084 [00:02<00:00, 16508.01it/s]\n",
      "  0%|          | 0/41084 [00:00<?, ?it/s]\n"
     ]
    },
    {
     "name": "stdout",
     "output_type": "stream",
     "text": [
      "subset_idx: 41084\n"
     ]
    },
    {
     "name": "stderr",
     "output_type": "stream",
     "text": [
      "100%|██████████| 41084/41084 [00:02<00:00, 16083.81it/s]\n",
      "  0%|          | 0/41084 [00:00<?, ?it/s]\n"
     ]
    },
    {
     "name": "stdout",
     "output_type": "stream",
     "text": [
      "subset_idx: 41084\n"
     ]
    },
    {
     "name": "stderr",
     "output_type": "stream",
     "text": [
      "100%|██████████| 41084/41084 [00:02<00:00, 16525.30it/s]\n",
      "  0%|          | 0/41084 [00:00<?, ?it/s]\n"
     ]
    },
    {
     "name": "stdout",
     "output_type": "stream",
     "text": [
      "subset_idx: 41084\n"
     ]
    }
   ],
   "source": [
    "METRICS = [\"Inverse PPL\"] # \"BLEU\", \"CHIA\"\n",
    "CRITERIA = [\"Hard to Learn\", \"Ambiguous\", \"Easy to Learn\", \"Random\"] # \n",
    "RATIOS = [0.5] # 0.33, \n",
    "\n",
    "for DATASET_NAME, CONVERGE_EPOCH in DNAMES_N_CEPOCHS:\n",
    "    OUTPUTS_PATH = outputs_path(DATASET_NAME)\n",
    "    idx_dict, i2s = get_scores(OUTPUTS_PATH, CONVERGE_EPOCH, STRING_TRUNCATE, min_epoch=3)\n",
    "    df = calculate_statistics(CONVERGE_EPOCH, idx_dict, i2s)\n",
    "    for METRIC in METRICS:\n",
    "        for CRITERION in CRITERIA:\n",
    "            if CRITERION == \"Random\" and METRIC != \"Inverse PPL\":\n",
    "                    continue\n",
    "                    \n",
    "            for RATIO in RATIOS:\n",
    "                idx_fname = create_ratio_fname(METRIC, CRITERION, CONVERGE_EPOCH, RATIO)\n",
    "                subset_df = choose_subset(df, METRIC, CRITERION, DATASET_NAME, idx_fname, ratio=RATIO)"
   ]
  },
  {
   "cell_type": "code",
   "execution_count": 5,
   "id": "bd22d463-0517-40da-be72-b446776f6398",
   "metadata": {},
   "outputs": [],
   "source": [
    "DNAMES = [\"cfq\", \"cogs\"]\n",
    "METRICS = [\"BLEU\", \"Inverse PPL\", \"CHIA\"]\n",
    "CRITERIA = [\"Hard to Learn\", \"Ambiguous\", \"Easy to Learn\", \"Random\"]\n",
    "RATIOS = [0.33, 0.5]\n",
    "\n",
    "run_commands = []\n",
    "\n",
    "for DATASET_NAME in DNAMES:\n",
    "    CONVERGE_EPOCH = DATASET2CEPOCHS[DATASET_NAME]\n",
    "    OUTPUTS_PATH = outputs_path(DATASET_NAME)\n",
    "    for METRIC in METRICS:\n",
    "        for CRITERION in CRITERIA:\n",
    "            if CRITERION == \"Random\" and METRIC != \"Inverse PPL\":\n",
    "                continue\n",
    "            \n",
    "            for RATIO in RATIOS:\n",
    "                indices_paths = []\n",
    "                for SEED in DATASET2SEEDS[DATASET_NAME]:\n",
    "                    indices_paths.append(wandb_config_name(SEED, DATASET_NAME, METRIC, CRITERION, CONVERGE_EPOCH, RATIO))                \n",
    "\n",
    "                command = create_wandb_config(DATASET_NAME, METRIC, CRITERION, CONVERGE_EPOCH, RATIO, indices_paths)\n",
    "                run_commands.append(command)"
   ]
  },
  {
   "cell_type": "code",
   "execution_count": 8,
   "id": "891e5f66-f349-4eb3-a6b0-8abbc249428f",
   "metadata": {},
   "outputs": [],
   "source": [
    "with open(\"../sweeps/commands/single_criterion_runs.txt\", \"w\") as f:\n",
    "    for command in run_commands:\n",
    "        f.write(f\"{command}\\n\")"
   ]
  },
  {
   "cell_type": "code",
   "execution_count": null,
   "id": "b3029080-c9f8-48b2-ad6c-da88e232934c",
   "metadata": {},
   "outputs": [],
   "source": []
  }
 ],
 "metadata": {
  "kernelspec": {
   "display_name": "Python 3 (ipykernel)",
   "language": "python",
   "name": "python3"
  },
  "language_info": {
   "codemirror_mode": {
    "name": "ipython",
    "version": 3
   },
   "file_extension": ".py",
   "mimetype": "text/x-python",
   "name": "python",
   "nbconvert_exporter": "python",
   "pygments_lexer": "ipython3",
   "version": "3.7.16"
  }
 },
 "nbformat": 4,
 "nbformat_minor": 5
}
