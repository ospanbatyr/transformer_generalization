{
 "cells": [
  {
   "cell_type": "markdown",
   "id": "6264fd7c-4d87-4c75-98ed-976910a7c7f5",
   "metadata": {},
   "source": [
    "#### Now, just find a straight-forward way of generating these YAML files.\n",
    "\n",
    "As we generate the pickle names automatically, reverse engineer the experiment names.\n",
    "\n",
    "#### After generating YAML files, generate the wandb commands automatically as well. Maybe store these in a file under `sweeps` folder.\n",
    "\n",
    "#### Then, use these commands to start wandb sweeps. --> by hand"
   ]
  },
  {
   "cell_type": "code",
   "execution_count": 1,
   "id": "c2fa64cb-cae3-4836-b3d2-432dad533d5b",
   "metadata": {},
   "outputs": [],
   "source": [
    "import os\n",
    "import numpy as np\n",
    "import pandas as pd\n",
    "from tqdm import tqdm, trange\n",
    "import torch\n",
    "import matplotlib.pyplot as plt\n",
    "import pickle5 as pickle\n",
    "import plotly.express as px\n",
    "import itertools\n",
    "import argparse\n",
    "import scipy.stats\n",
    "import scipy.special as special\n",
    "from typing import Dict, List, Any, Tuple\n",
    "\n",
    "from subset_utils import *"
   ]
  },
  {
   "cell_type": "code",
   "execution_count": 2,
   "id": "d4210a53-5eb4-49de-910a-a5573d456dbc",
   "metadata": {},
   "outputs": [],
   "source": [
    "seed_everything(42)"
   ]
  },
  {
   "cell_type": "code",
   "execution_count": 11,
   "id": "9f9fe980-039d-49a5-83f1-09a006ee0d54",
   "metadata": {},
   "outputs": [],
   "source": [
    "DNAMES_N_CEPOCHS = dnames_cepochs()"
   ]
  },
  {
   "cell_type": "code",
   "execution_count": 12,
   "id": "592f8e58-a9eb-4633-9847-30a2d9d8d535",
   "metadata": {},
   "outputs": [
    {
     "name": "stdout",
     "output_type": "stream",
     "text": [
      "('1685001853/cfq', 20)\n",
      "('3960970220/cfq', 20)\n",
      "('2895201892/cfq', 20)\n",
      "('83256541/cogs', 10)\n",
      "('4190663204/cogs', 10)\n",
      "('3926193344/cogs', 10)\n"
     ]
    }
   ],
   "source": [
    "for i in DNAMES_N_CEPOCHS:\n",
    "    print(i)"
   ]
  },
  {
   "cell_type": "code",
   "execution_count": null,
   "id": "d63e610c-8abe-46b7-95c6-79a72a7fc3d3",
   "metadata": {},
   "outputs": [],
   "source": []
  }
 ],
 "metadata": {
  "kernelspec": {
   "display_name": "Python 3 (ipykernel)",
   "language": "python",
   "name": "python3"
  },
  "language_info": {
   "codemirror_mode": {
    "name": "ipython",
    "version": 3
   },
   "file_extension": ".py",
   "mimetype": "text/x-python",
   "name": "python",
   "nbconvert_exporter": "python",
   "pygments_lexer": "ipython3",
   "version": "3.7.16"
  }
 },
 "nbformat": 4,
 "nbformat_minor": 5
}
