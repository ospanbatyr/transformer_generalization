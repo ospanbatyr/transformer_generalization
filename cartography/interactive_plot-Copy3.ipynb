{
 "cells": [
  {
   "cell_type": "code",
   "execution_count": 13,
   "id": "74b06877-ac3c-416f-8822-5b25c2b46d4e",
   "metadata": {},
   "outputs": [],
   "source": [
    "import os\n",
    "import numpy as np\n",
    "import pandas as pd\n",
    "from tqdm import tqdm, trange\n",
    "import torch\n",
    "import matplotlib.pyplot as plt\n",
    "import pickle5 as pickle\n",
    "import plotly.express as px\n",
    "import itertools\n",
    "import argparse\n",
    "import scipy.stats\n",
    "import scipy.special as special\n",
    "from typing import Dict, List, Any, Tuple"
   ]
  },
  {
   "cell_type": "code",
   "execution_count": 14,
   "id": "5f7c76e7-36f3-4ff4-bcd6-5a785f81b326",
   "metadata": {},
   "outputs": [],
   "source": [
    "def seed_everything(seed: int):\n",
    "    import random, os\n",
    "    import numpy as np\n",
    "    \n",
    "    random.seed(seed)\n",
    "    os.environ['PYTHONHASHSEED'] = str(seed)\n",
    "    np.random.seed(seed)\n",
    "    \n",
    "seed_everything(42)"
   ]
  },
  {
   "cell_type": "code",
   "execution_count": 15,
   "id": "fd0ded5b-4ced-4360-83e3-71ab5c376772",
   "metadata": {},
   "outputs": [],
   "source": [
    "def read_pickle(file_path: str) -> Any:\n",
    "\twith open(file_path, \"rb\") as handle:\n",
    "\t\treturn pickle.load(handle)"
   ]
  },
  {
   "cell_type": "code",
   "execution_count": 33,
   "id": "21ae00c5-d927-467c-a5c9-3256f851aeb2",
   "metadata": {},
   "outputs": [],
   "source": [
    "l = read_pickle(\"/scratch/users/oince22/hpc_run/data-cartography-for-compositionality/code/dataset_gen/transformer_generalization/cartography/subsets/curriculum/cfq/inlens_bleu_ambiguous_20.pickle\")"
   ]
  },
  {
   "cell_type": "code",
   "execution_count": 34,
   "id": "2635f0dd-e5c7-4b81-b9bf-2df3898b72a8",
   "metadata": {},
   "outputs": [
    {
     "data": {
      "text/plain": [
       "95743"
      ]
     },
     "execution_count": 34,
     "metadata": {},
     "output_type": "execute_result"
    }
   ],
   "source": [
    "len(l)"
   ]
  },
  {
   "cell_type": "code",
   "execution_count": null,
   "id": "fc85e0fd-b2e2-4762-a2cd-d12cb7c6e820",
   "metadata": {},
   "outputs": [],
   "source": [
    "l"
   ]
  },
  {
   "cell_type": "code",
   "execution_count": 16,
   "id": "847ec7e2-db6b-4647-ae9f-aed719ea5247",
   "metadata": {},
   "outputs": [],
   "source": [
    "def write_pickle(file: Any, file_path: str) -> None:\n",
    "    with open(file_path, 'wb') as handle:\n",
    "        pickle.dump(file, handle, protocol=pickle.HIGHEST_PROTOCOL)"
   ]
  },
  {
   "cell_type": "code",
   "execution_count": 17,
   "id": "fca42a9d-283b-4386-8dcb-066a7c87a551",
   "metadata": {},
   "outputs": [],
   "source": [
    "def get_word_freqs(i2s):\n",
    "    in_v = Counter()\n",
    "    out_v = Counter()\n",
    "    \n",
    "    for txt in i2s[\"In\"]:\n",
    "        tokens = txt.split()\n",
    "        in_v.update(tokens)\n",
    "\n",
    "    for txt in i2s[\"Out\"]:\n",
    "        tokens = txt.split()\n",
    "        out_v.update(tokens)\n",
    "    \n",
    "    total = sum(in_v.values())\n",
    "    for k in in_v:\n",
    "        in_v[k] /= total\n",
    "\n",
    "    total = sum(out_v.values())\n",
    "    for k in out_v:\n",
    "        out_v[k] /= total\n",
    "        \n",
    "    return in_v, out_v"
   ]
  },
  {
   "cell_type": "code",
   "execution_count": 18,
   "id": "c29dca1a-bdbb-47ed-9ffb-32083a07f86b",
   "metadata": {},
   "outputs": [],
   "source": [
    "def get_rarity(in_txt, out_txt, in_v, out_v):\n",
    "    in_toks = in_txt.split()\n",
    "    out_toks = out_txt.split()\n",
    "    \n",
    "    in_rarity, out_rarity = 0, 0\n",
    "    in_len, out_len = len(in_toks), len(out_toks)\n",
    "    \n",
    "    for tok in in_toks:\n",
    "        in_rarity += in_v[tok]\n",
    "        \n",
    "    in_rarity /= in_len\n",
    "    \n",
    "    for tok in out_toks:\n",
    "        out_rarity += out_v[tok]\n",
    "    \n",
    "    out_rarity /= out_len\n",
    "    \n",
    "    return -np.log(in_rarity), -np.log(out_rarity)"
   ]
  },
  {
   "cell_type": "code",
   "execution_count": 19,
   "id": "bc03c329-6f3e-40c9-96b5-5f3fda086106",
   "metadata": {
    "tags": []
   },
   "outputs": [],
   "source": [
    "STRING_TRUNCATE = 50\n",
    "\n",
    "def get_scores(dir_path: str, converge_epoch: int, string_truncate: int, min_epoch: int = 3) -> Tuple[Dict[int, Dict[str, List[float]]], Dict[str, List[Any]]]:\n",
    "    file_list = os.listdir(dir_path)\n",
    "    idx_to_sentences: Dict[int, Dict[str, str]] = read_pickle(os.path.join(dir_path, \"idx_to_sentences.pickle\"))\n",
    "\n",
    "    file_list = [f for f in file_list if f[:5] == \"epoch\"]\n",
    "    file_list = [f for f in file_list if int(f.split(\"_\")[0].replace(\"epoch\", \"\")) > min_epoch and int(f.split(\"_\")[0].replace(\"epoch\", \"\")) < converge_epoch]\n",
    "    file_list = sorted(file_list, key= lambda s: int(s.split(\"_\")[1].replace(\"stepidx\", \"\")))\n",
    "\n",
    "    # print(\"Loading files in:\", dir_path)\n",
    "    idxs, ppls, chias, bleus = [], [], [], []\n",
    "    print(\"Read pickles\")\n",
    "    for file_name in tqdm(file_list):\n",
    "        file_path = f\"{dir_path}/{file_name}\"\n",
    "        # print(file_name)\n",
    "        if \"ppl\" in file_path:\n",
    "            ppls.extend(read_pickle(file_path).tolist())\n",
    "        elif \"chia\" in file_path:\n",
    "            chias.extend(read_pickle(file_path).tolist())\n",
    "        elif \"bleu\" in file_path:\n",
    "            bleus.extend(read_pickle(file_path))\n",
    "        elif \"idx\" in file_path:\n",
    "            idxs.extend(read_pickle(file_path).tolist())\n",
    "        else:\n",
    "            output_csv_name = file_path\n",
    "\n",
    "    items = list(zip(idxs, ppls, chias, bleus))\n",
    "    items = sorted(items, key=lambda i: i[0])\n",
    "    idx_dict: Dict[int, Dict[str, List[float]]] = {}\n",
    "    \n",
    "    print(\"Process items\")\n",
    "    for item in tqdm(items):\n",
    "        if item[0] not in idx_dict:\n",
    "            idx_dict[item[0]] = {\"inv_ppl\": [1 / item[1]], \"chia\": [item[2]], \"bleu\": [item[3]]}\n",
    "        else:\n",
    "            idx_dict[item[0]][\"inv_ppl\"].append(1 / item[1])\n",
    "            idx_dict[item[0]][\"chia\"].append(item[2])\n",
    "            idx_dict[item[0]][\"bleu\"].append(item[3])\n",
    "\n",
    "    i2s = {\"Index\": [], \"In\": [], \"Out\": [], \"In abbv.\": [], \"Out abbv.\": [], \"In Len\": [], \"Out Len\": [], \"In Rarity\": [], \"Out Rarity\": []}\n",
    "\n",
    "    print(\"Create items list\")\n",
    "    for k, v in tqdm(idx_to_sentences.items()):\n",
    "        i2s[\"Index\"].append(k)\n",
    "        i2s[\"In\"].append(v[\"in\"])\n",
    "        i2s[\"Out\"].append(v[\"out\"])\n",
    "        i2s[\"In abbv.\"].append(v[\"in\"][:STRING_TRUNCATE])\n",
    "        i2s[\"Out abbv.\"].append(v[\"out\"][:STRING_TRUNCATE])\n",
    "        i2s[\"In Len\"].append(len(v[\"in\"].split()))\n",
    "        i2s[\"Out Len\"].append(len(v[\"out\"].split()))\n",
    "\n",
    "    in_v, out_v = get_word_freqs(i2s)\n",
    "    \n",
    "    print(\"Process item rarity\")\n",
    "    for k, v in tqdm(idx_to_sentences.items()):\n",
    "        in_rarity, out_rarity = get_rarity(v[\"in\"], v[\"out\"], in_v, out_v)\n",
    "        i2s[\"In Rarity\"].append(in_rarity)\n",
    "        i2s[\"Out Rarity\"].append(out_rarity)\n",
    "\n",
    "    return idx_dict, i2s"
   ]
  },
  {
   "cell_type": "code",
   "execution_count": 20,
   "id": "50fff27f-57cc-4a75-b76e-0efe37123d90",
   "metadata": {},
   "outputs": [],
   "source": [
    "from collections import Counter\n",
    "\n",
    "def create_vocab(df):\n",
    "\tin_v = Counter()\n",
    "\tout_v = Counter()\n",
    "    \n",
    "\tfor idx, txt in df[\"In\"].items():\n",
    "\t\ttokens = txt.split()\n",
    "\t\tin_v.update(tokens)\n",
    "         \n",
    "\tfor idx, txt in df[\"Out\"].items():\n",
    "\t\ttokens = txt.split()\n",
    "\t\tout_v.update(tokens)\n",
    "\n",
    "\treturn set(in_v.keys()), set(out_v.keys()), in_v, out_v"
   ]
  },
  {
   "cell_type": "code",
   "execution_count": 21,
   "id": "bde8fd88-8e0c-4848-83c8-440704b82bb4",
   "metadata": {},
   "outputs": [],
   "source": [
    "def calculate_statistics(epoch: int, idx_dict: Dict[int, Dict[str, List[float]]], i2s: Dict[str, List[Any]]) -> pd.DataFrame:\n",
    "    idx_mean_var_dict: Dict[int, Dict[str, Tuple[float, float]]] = {}\n",
    "    idx_mean_var_list: List[Tuple[int, float, float, float, float, float, float, float, float]] = []\n",
    "    score_names = [\"inv_ppl\", \"chia\", \"bleu\"]\n",
    "\n",
    "    print(\"Calculate statistics\")\n",
    "    for idx, scores in tqdm(idx_dict.items()):\n",
    "        scores_list = []\n",
    "        for score_name in score_names:\n",
    "            score_arr = np.array(scores[score_name][:epoch])\n",
    "            mean = score_arr.mean()\n",
    "            var = score_arr.var()\n",
    "            scores_list.extend([mean, var])\n",
    "\n",
    "        idx_mean_var_list.append(tuple((idx, *scores_list)))\n",
    "\n",
    "    i2s_df = pd.DataFrame.from_dict(i2s)\n",
    "\n",
    "\n",
    "    df = pd.DataFrame(idx_mean_var_list, columns =['Index', 'Confidence - Inverse PPL', 'Variability - Inverse PPL', \\\n",
    "                                                    'Confidence - CHIA', 'Variability - CHIA', \\\n",
    "                                                    'Confidence - BLEU', 'Variability - BLEU'])\n",
    "\n",
    "    cartography = pd.merge(df, i2s_df, on=\"Index\")\n",
    "\n",
    "    return cartography"
   ]
  },
  {
   "cell_type": "code",
   "execution_count": 22,
   "id": "a9e43912-8561-4067-9c89-b271bbe079bd",
   "metadata": {},
   "outputs": [],
   "source": [
    "def load_scores(dir_path: str, plot_path: str, converge_epoch: int) -> None:\n",
    "\tidx_dict = get_scores(dir_path, plot_path, converge_epoch)\n",
    "\t\n",
    "\tfor epoch in trange(3, converge_epoch, 2):\n",
    "\t\tdf = calculate_statistics(epoch, idx_dict)\n",
    "\n",
    "\t\tplot_types = [\"inv_ppl\", \"chia\", \"bleu\"]\n",
    "\n",
    "\t\tfor plot_type in tqdm(plot_types, \"Plots\"):\n",
    "\t\t\tplot(df, plot_path, str(epoch), plot_type)"
   ]
  },
  {
   "cell_type": "code",
   "execution_count": 29,
   "id": "c29c2fb0-7401-4cf7-b57c-8451ece5082c",
   "metadata": {},
   "outputs": [],
   "source": [
    "def save_subset(subset_df: pd.DataFrame, sort_by: str, ds_name: str, subset_fname: str) -> None:\n",
    "    subset_idx = subset_df[\"Index\"].tolist()\n",
    "    subset_diffs = subset_df[sort_by].tolist()\n",
    "    subset_inlens = subset_df[\"In Len\"].tolist()\n",
    "    subset_outlens = subset_df[\"Out Len\"].tolist()\n",
    "    \n",
    "    subset_idx = [int(i) for i in subset_idx]\n",
    "    subset_diffs = [float(f) for f in subset_diffs]\n",
    "    subset_inlens = [int(i) for i in subset_inlens]\n",
    "    subset_outlens = [int(i) for i in subset_outlens]\n",
    "    \n",
    "    print(f\"subset_inlens: {len(subset_inlens)}\")\n",
    "    print(f\"subset_outlens: {len(subset_outlens)}\")\n",
    "    \n",
    "    os.makedirs(os.path.join(\"subsets\", \"curriculum\", ds_name), exist_ok=True)\n",
    "    write_pickle(subset_idx, os.path.join(\"subsets\", \"curriculum\", ds_name, subset_fname))\n",
    "    write_pickle(subset_diffs, os.path.join(\"subsets\", \"curriculum\", ds_name, f\"diffs_{subset_fname}\"))\n",
    "    write_pickle(subset_inlens, os.path.join(\"subsets\", \"curriculum\", ds_name, f\"inlens_{subset_fname}\"))\n",
    "    write_pickle(subset_outlens, os.path.join(\"subsets\", \"curriculum\", ds_name, f\"outlens_{subset_fname}\"))\n",
    "    print(f\"subset_idx: {len(subset_idx)}, subset_diffs: {len(subset_diffs)}\")"
   ]
  },
  {
   "cell_type": "code",
   "execution_count": 31,
   "id": "32f2ab5c-4900-4104-884e-dc926d1141e2",
   "metadata": {
    "tags": []
   },
   "outputs": [],
   "source": [
    "from pprint import pprint\n",
    "\n",
    "def choose_subset(df: pd.DataFrame, metric: str, criteria: str, ds_name: str, subset_fname:str, write=True) -> pd.DataFrame:\n",
    "    assert metric in [\"Inverse PPL\", \"Neg PPL\", \"CHIA\", \"BLEU\"]\n",
    "    assert criteria in [\"Easy to Learn\", \"Ambiguous\", \"Hard to Learn\", \"Random\"]\n",
    "    \n",
    "    if criteria == \"Easy to Learn\":\n",
    "        sort_by = f\"Confidence - {metric}\"\n",
    "        ascending = False\n",
    "    elif criteria == \"Ambiguous\":\n",
    "        sort_by = f\"Variability - {metric}\"\n",
    "        ascending = False\n",
    "    elif criteria == \"Hard to Learn\":\n",
    "        sort_by = f\"Confidence - {metric}\"\n",
    "        ascending = True\n",
    "        \n",
    "    if criteria == \"Random\":\n",
    "        sorted_df = df.sample(frac=1)\n",
    "    else:\n",
    "        sorted_df = df.sort_values(by=[sort_by], ascending=ascending)\n",
    "\n",
    "    sorted_df = sorted_df.reset_index(drop=True)\n",
    "    \n",
    "    sorted_idx = sorted_df[\"Index\"].tolist()\n",
    "    sorted_idx = [int(i) for i in sorted_idx]\n",
    "    \n",
    "    if write:\n",
    "        save_subset(sorted_df, sort_by, ds_name, subset_fname)\n",
    "    \n",
    "    return sorted_df"
   ]
  },
  {
   "cell_type": "code",
   "execution_count": 25,
   "id": "72b5126d-f2fa-4904-9585-ff9e03ecc01f",
   "metadata": {},
   "outputs": [],
   "source": [
    "def combine_subsets(df: pd.DataFrame, subset_dfs: List[pd.DataFrame], ds_name: str, subset_fname: str) -> pd.DataFrame:\n",
    "    \n",
    "    combined_set = pd.concat(subset_dfs)\n",
    "    combined_set = combined_set.drop_duplicates(keep=\"first\")\n",
    "    \n",
    "    if len(combined_set) > (len(df) / 2):\n",
    "        combined_set = combined_set.iloc[:int(len(df) / 2)]\n",
    "    else:\n",
    "        count = 0\n",
    "        while len(combined_set) < (len(df) / 2):\n",
    "            example = df.sample(n=1)\n",
    "            if not example.iloc[0][\"In\"] in combined_set['In'].tolist():\n",
    "                combined_set = combined_set.append(example)\n",
    "                \n",
    "    save_subset(combined_set, ds_name, subset_fname)\n",
    "    \n",
    "    return combined_set"
   ]
  },
  {
   "cell_type": "code",
   "execution_count": 26,
   "id": "e2075ae2-2739-4421-97be-73ff56a4ebc8",
   "metadata": {},
   "outputs": [],
   "source": [
    "def plot(df, plot_type=\"inv_ppl\", color_column=\"_merge\"):\n",
    "\tif plot_type == \"inv_ppl\":\n",
    "            # print(df[\"_merge\"].unique())\n",
    "            #df[\"_merge\"] = df[\"_merge\"].cat.remove_categories(\"right_only\")\n",
    "            # print(df[\"_merge\"].unique())\n",
    "            #assert '_merge' in df.columns, \"_merge not in columns\"\n",
    "            fig = px.scatter(df, x=\"Variability - Inverse PPL\", y=\"Confidence - Inverse PPL\", custom_data=['In abbv.', 'Out abbv.', 'In Len', 'Out Len'], color=color_column) # , range_color=[0,1]\n",
    "            fig.update_layout(yaxis_range=[0, 1])\n",
    "            fig.update_traces(\n",
    "                hovertemplate=\"<br>\".join([\n",
    "                    \"Variability - Inverse PPL: %{x}\",\n",
    "                    \"Confidence - Inverse PPL: %{y}\",\n",
    "                    \"In: %{customdata[0]}\",\n",
    "                    \"Out: %{customdata[1]}\",\n",
    "                    \"In Len: %{customdata[2]}\",\n",
    "                    \"Out Len: %{customdata[3]}\", \n",
    "                ])\n",
    "            )\n",
    "\telif plot_type == \"chia\":\n",
    "\t\tfig = px.scatter(df, x=\"Variability - CHIA\", y=\"Confidence - CHIA\", custom_data=['In abbv.', 'Out abbv.', 'In Len', 'Out Len'], color='Confidence - BLEU', range_color=[0,1])\n",
    "\t\tfig.update_layout(yaxis_range=[0, 1])\n",
    "\t\tfig.update_traces(\n",
    "\t\t\thovertemplate=\"<br>\".join([\n",
    "\t\t\t\t\"Variability - CHIA: %{x}\",\n",
    "\t\t\t\t\"Confidence - CHIA: %{y}\",\n",
    "\t\t\t\t\"In: %{customdata[0]}\",\n",
    "\t\t\t\t\"Out: %{customdata[1]}\",\n",
    "                \"In Len: %{customdata[2]}\",\n",
    "                \"Out Len: %{customdata[3]}\", \n",
    "\t\t\t])\n",
    "\t\t)\n",
    "\telif plot_type == \"bleu\":\n",
    "\t\tfig = px.scatter(df, x=\"Variability - BLEU\", y=\"Confidence - BLEU\", custom_data=['In abbv.', 'Out abbv.', 'In Len', 'Out Len'], color='Confidence - BLEU', range_color=[0,1])\n",
    "\t\tfig.update_layout(yaxis_range=[0, 1])\n",
    "\t\tfig.update_traces(\n",
    "\t\t\thovertemplate=\"<br>\".join([\n",
    "\t\t\t\t\"Variability - BLEU: %{x}\",\n",
    "\t\t\t\t\"Confidence - BLEU: %{y}\",\n",
    "\t\t\t\t\"In: %{customdata[0]}\",\n",
    "\t\t\t\t\"Out: %{customdata[1]}\",\n",
    "                \"In Len: %{customdata[2]}\",\n",
    "                \"Out Len: %{customdata[3]}\", \n",
    "\t\t\t])\n",
    "\t\t)\t\n",
    "\tfig.update_traces(marker=dict(size=3), selector=dict(mode='markers'))\n",
    "\tfig.update_layout(\n",
    "\t\tautosize=False,\n",
    "\t\twidth=800,\n",
    "\t\theight=900\n",
    "\t)\n",
    "\tfig.show()"
   ]
  },
  {
   "cell_type": "code",
   "execution_count": 19,
   "id": "c811c7bb-b0d0-4a07-ba8d-f6273055166f",
   "metadata": {},
   "outputs": [
    {
     "name": "stdout",
     "output_type": "stream",
     "text": [
      "[NbConvertApp] Converting notebook interactive_plot-Copy3.ipynb to script\n",
      "[NbConvertApp] Writing 25514 bytes to interactive_plot-Copy3.py\n"
     ]
    }
   ],
   "source": [
    "!jupyter nbconvert --to script interactive_plot-Copy3.ipynb"
   ]
  },
  {
   "cell_type": "code",
   "execution_count": 27,
   "id": "0386cacd-8d81-4d94-aa31-dcf8606f950e",
   "metadata": {},
   "outputs": [],
   "source": [
    "STRING_TRUNCATE = 120\n",
    "\n",
    "mtrc2abv = {\"Inverse PPL\": \"inv_ppl\", \"Neg PPL\": \"neg_ppl\", \"CHIA\": \"chia\", \"BLEU\": \"bleu\"}\n",
    "crit2abv = {\"Easy to Learn\": \"easy_to_learn\", \"Ambiguous\": \"ambiguous\", \"Hard to Learn\": \"hard_to_learn\", \"Random\": \"random\"}\n",
    "create_fname = lambda m, cr, c_e: f\"{mtrc2abv[m]}_{crit2abv[cr]}_{c_e}.pickle\"\n",
    "create_ratio_fname = lambda m, cr, c_e, rto: f\"{mtrc2abv[m]}_{crit2abv[cr]}_{c_e}_{rto}.pickle\"\n",
    "create_comb_fname = lambda m, cr1, cr2, c_e: f\"{mtrc2abv[m]}_{crit2abv[cr1]}_{crit2abv[cr2]}_{c_e}.pickle\"\n",
    "outputs_path = lambda x: f\"../scores/{x}\""
   ]
  },
  {
   "cell_type": "code",
   "execution_count": 17,
   "id": "fe29838d-8eea-4f85-bce1-fac2f52e1f86",
   "metadata": {},
   "outputs": [],
   "source": [
    "# i2s = read_pickle(os.path.join(outputs_path(\"cfq\"), \"idx_to_sentences.pickle\"))\n",
    "# i2s_htl = read_pickle(os.path.join(outputs_path(\"cfq\"), \"idx_to_sentences_htl_20.pickle\"))\n",
    "# len(i2s), len(i2s_htl)"
   ]
  },
  {
   "cell_type": "code",
   "execution_count": 32,
   "id": "d5e4e85d-d0e5-4f86-8e9e-611138203f69",
   "metadata": {},
   "outputs": [
    {
     "name": "stdout",
     "output_type": "stream",
     "text": [
      "Read pickles\n"
     ]
    },
    {
     "name": "stderr",
     "output_type": "stream",
     "text": [
      "100%|██████████| 6016/6016 [00:11<00:00, 533.53it/s]\n"
     ]
    },
    {
     "name": "stdout",
     "output_type": "stream",
     "text": [
      "Process items\n"
     ]
    },
    {
     "name": "stderr",
     "output_type": "stream",
     "text": [
      "100%|██████████| 1540096/1540096 [00:03<00:00, 414043.97it/s]\n"
     ]
    },
    {
     "name": "stdout",
     "output_type": "stream",
     "text": [
      "Create items list\n"
     ]
    },
    {
     "name": "stderr",
     "output_type": "stream",
     "text": [
      "100%|██████████| 95743/95743 [00:00<00:00, 224422.95it/s]\n"
     ]
    },
    {
     "name": "stdout",
     "output_type": "stream",
     "text": [
      "Process item rarity\n"
     ]
    },
    {
     "name": "stderr",
     "output_type": "stream",
     "text": [
      "100%|██████████| 95743/95743 [00:01<00:00, 94224.38it/s] \n"
     ]
    },
    {
     "name": "stdout",
     "output_type": "stream",
     "text": [
      "Calculate statistics\n"
     ]
    },
    {
     "name": "stderr",
     "output_type": "stream",
     "text": [
      "100%|██████████| 95743/95743 [00:06<00:00, 14367.26it/s]\n"
     ]
    },
    {
     "name": "stdout",
     "output_type": "stream",
     "text": [
      "Inverse PPL Ambiguous\n",
      "subset_inlens: 95743\n",
      "subset_outlens: 95743\n",
      "subset_idx: 95743, subset_diffs: 95743\n",
      "Inverse PPL Easy to Learn\n",
      "subset_inlens: 95743\n",
      "subset_outlens: 95743\n",
      "subset_idx: 95743, subset_diffs: 95743\n",
      "Inverse PPL Hard to Learn\n",
      "subset_inlens: 95743\n",
      "subset_outlens: 95743\n",
      "subset_idx: 95743, subset_diffs: 95743\n",
      "BLEU Ambiguous\n",
      "subset_inlens: 95743\n",
      "subset_outlens: 95743\n",
      "subset_idx: 95743, subset_diffs: 95743\n",
      "BLEU Easy to Learn\n",
      "subset_inlens: 95743\n",
      "subset_outlens: 95743\n",
      "subset_idx: 95743, subset_diffs: 95743\n",
      "BLEU Hard to Learn\n",
      "subset_inlens: 95743\n",
      "subset_outlens: 95743\n",
      "subset_idx: 95743, subset_diffs: 95743\n",
      "Read pickles\n"
     ]
    },
    {
     "name": "stderr",
     "output_type": "stream",
     "text": [
      "100%|██████████| 4536/4536 [00:08<00:00, 529.29it/s]\n"
     ]
    },
    {
     "name": "stdout",
     "output_type": "stream",
     "text": [
      "Process items\n"
     ]
    },
    {
     "name": "stderr",
     "output_type": "stream",
     "text": [
      "100%|██████████| 145152/145152 [00:00<00:00, 238096.06it/s]\n"
     ]
    },
    {
     "name": "stdout",
     "output_type": "stream",
     "text": [
      "Create items list\n"
     ]
    },
    {
     "name": "stderr",
     "output_type": "stream",
     "text": [
      "100%|██████████| 24155/24155 [00:00<00:00, 169663.85it/s]\n"
     ]
    },
    {
     "name": "stdout",
     "output_type": "stream",
     "text": [
      "Process item rarity\n"
     ]
    },
    {
     "name": "stderr",
     "output_type": "stream",
     "text": [
      "100%|██████████| 24155/24155 [00:00<00:00, 90986.21it/s]\n"
     ]
    },
    {
     "name": "stdout",
     "output_type": "stream",
     "text": [
      "Calculate statistics\n"
     ]
    },
    {
     "name": "stderr",
     "output_type": "stream",
     "text": [
      "100%|██████████| 24155/24155 [00:01<00:00, 14215.56it/s]\n"
     ]
    },
    {
     "name": "stdout",
     "output_type": "stream",
     "text": [
      "Inverse PPL Ambiguous\n",
      "subset_inlens: 24155\n",
      "subset_outlens: 24155\n",
      "subset_idx: 24155, subset_diffs: 24155\n",
      "Inverse PPL Easy to Learn\n",
      "subset_inlens: 24155\n",
      "subset_outlens: 24155\n",
      "subset_idx: 24155, subset_diffs: 24155\n",
      "Inverse PPL Hard to Learn\n",
      "subset_inlens: 24155\n",
      "subset_outlens: 24155\n",
      "subset_idx: 24155, subset_diffs: 24155\n",
      "BLEU Ambiguous\n",
      "subset_inlens: 24155\n",
      "subset_outlens: 24155\n",
      "subset_idx: 24155, subset_diffs: 24155\n",
      "BLEU Easy to Learn\n",
      "subset_inlens: 24155\n",
      "subset_outlens: 24155\n",
      "subset_idx: 24155, subset_diffs: 24155\n",
      "BLEU Hard to Learn\n",
      "subset_inlens: 24155\n",
      "subset_outlens: 24155\n",
      "subset_idx: 24155, subset_diffs: 24155\n",
      "Read pickles\n"
     ]
    },
    {
     "name": "stderr",
     "output_type": "stream",
     "text": [
      " 22%|██▏       | 143997/667680 [05:59<21:46, 400.89it/s]  \n"
     ]
    },
    {
     "ename": "KeyboardInterrupt",
     "evalue": "",
     "output_type": "error",
     "traceback": [
      "\u001b[0;31m---------------------------------------------------------------------------\u001b[0m",
      "\u001b[0;31mKeyboardInterrupt\u001b[0m                         Traceback (most recent call last)",
      "\u001b[0;32m/tmp/ipykernel_113282/3812646166.py\u001b[0m in \u001b[0;36m<module>\u001b[0;34m\u001b[0m\n\u001b[1;32m      7\u001b[0m \u001b[0;32mfor\u001b[0m \u001b[0mCONVERGE_EPOCH\u001b[0m\u001b[0;34m,\u001b[0m \u001b[0mMIN_EPOCH\u001b[0m\u001b[0;34m,\u001b[0m \u001b[0mDATASET_NAME\u001b[0m \u001b[0;32min\u001b[0m \u001b[0mzip\u001b[0m\u001b[0;34m(\u001b[0m\u001b[0mCONVERGE_EPOCHS\u001b[0m\u001b[0;34m,\u001b[0m \u001b[0mMIN_EPOCHS\u001b[0m\u001b[0;34m,\u001b[0m \u001b[0mDATASET_NAMES\u001b[0m\u001b[0;34m)\u001b[0m\u001b[0;34m:\u001b[0m\u001b[0;34m\u001b[0m\u001b[0;34m\u001b[0m\u001b[0m\n\u001b[1;32m      8\u001b[0m     \u001b[0mOUTPUTS_PATH\u001b[0m \u001b[0;34m=\u001b[0m \u001b[0moutputs_path\u001b[0m\u001b[0;34m(\u001b[0m\u001b[0mDATASET_NAME\u001b[0m\u001b[0;34m)\u001b[0m\u001b[0;34m\u001b[0m\u001b[0;34m\u001b[0m\u001b[0m\n\u001b[0;32m----> 9\u001b[0;31m     \u001b[0midx_dict\u001b[0m\u001b[0;34m,\u001b[0m \u001b[0mi2s\u001b[0m \u001b[0;34m=\u001b[0m \u001b[0mget_scores\u001b[0m\u001b[0;34m(\u001b[0m\u001b[0mOUTPUTS_PATH\u001b[0m\u001b[0;34m,\u001b[0m \u001b[0mCONVERGE_EPOCH\u001b[0m\u001b[0;34m,\u001b[0m \u001b[0mSTRING_TRUNCATE\u001b[0m\u001b[0;34m,\u001b[0m \u001b[0mmin_epoch\u001b[0m\u001b[0;34m=\u001b[0m\u001b[0mMIN_EPOCH\u001b[0m\u001b[0;34m)\u001b[0m\u001b[0;34m\u001b[0m\u001b[0;34m\u001b[0m\u001b[0m\n\u001b[0m\u001b[1;32m     10\u001b[0m     \u001b[0mdf\u001b[0m \u001b[0;34m=\u001b[0m \u001b[0mcalculate_statistics\u001b[0m\u001b[0;34m(\u001b[0m\u001b[0mCONVERGE_EPOCH\u001b[0m\u001b[0;34m,\u001b[0m \u001b[0midx_dict\u001b[0m\u001b[0;34m,\u001b[0m \u001b[0mi2s\u001b[0m\u001b[0;34m)\u001b[0m\u001b[0;34m\u001b[0m\u001b[0;34m\u001b[0m\u001b[0m\n\u001b[1;32m     11\u001b[0m     \u001b[0;32mfor\u001b[0m \u001b[0mMETRIC\u001b[0m \u001b[0;32min\u001b[0m \u001b[0mMETRICS\u001b[0m\u001b[0;34m:\u001b[0m\u001b[0;34m\u001b[0m\u001b[0;34m\u001b[0m\u001b[0m\n",
      "\u001b[0;32m/tmp/ipykernel_113282/3432277706.py\u001b[0m in \u001b[0;36mget_scores\u001b[0;34m(dir_path, converge_epoch, string_truncate, min_epoch)\u001b[0m\n\u001b[1;32m     20\u001b[0m             \u001b[0mchias\u001b[0m\u001b[0;34m.\u001b[0m\u001b[0mextend\u001b[0m\u001b[0;34m(\u001b[0m\u001b[0mread_pickle\u001b[0m\u001b[0;34m(\u001b[0m\u001b[0mfile_path\u001b[0m\u001b[0;34m)\u001b[0m\u001b[0;34m.\u001b[0m\u001b[0mtolist\u001b[0m\u001b[0;34m(\u001b[0m\u001b[0;34m)\u001b[0m\u001b[0;34m)\u001b[0m\u001b[0;34m\u001b[0m\u001b[0;34m\u001b[0m\u001b[0m\n\u001b[1;32m     21\u001b[0m         \u001b[0;32melif\u001b[0m \u001b[0;34m\"bleu\"\u001b[0m \u001b[0;32min\u001b[0m \u001b[0mfile_path\u001b[0m\u001b[0;34m:\u001b[0m\u001b[0;34m\u001b[0m\u001b[0;34m\u001b[0m\u001b[0m\n\u001b[0;32m---> 22\u001b[0;31m             \u001b[0mbleus\u001b[0m\u001b[0;34m.\u001b[0m\u001b[0mextend\u001b[0m\u001b[0;34m(\u001b[0m\u001b[0mread_pickle\u001b[0m\u001b[0;34m(\u001b[0m\u001b[0mfile_path\u001b[0m\u001b[0;34m)\u001b[0m\u001b[0;34m)\u001b[0m\u001b[0;34m\u001b[0m\u001b[0;34m\u001b[0m\u001b[0m\n\u001b[0m\u001b[1;32m     23\u001b[0m         \u001b[0;32melif\u001b[0m \u001b[0;34m\"idx\"\u001b[0m \u001b[0;32min\u001b[0m \u001b[0mfile_path\u001b[0m\u001b[0;34m:\u001b[0m\u001b[0;34m\u001b[0m\u001b[0;34m\u001b[0m\u001b[0m\n\u001b[1;32m     24\u001b[0m             \u001b[0midxs\u001b[0m\u001b[0;34m.\u001b[0m\u001b[0mextend\u001b[0m\u001b[0;34m(\u001b[0m\u001b[0mread_pickle\u001b[0m\u001b[0;34m(\u001b[0m\u001b[0mfile_path\u001b[0m\u001b[0;34m)\u001b[0m\u001b[0;34m.\u001b[0m\u001b[0mtolist\u001b[0m\u001b[0;34m(\u001b[0m\u001b[0;34m)\u001b[0m\u001b[0;34m)\u001b[0m\u001b[0;34m\u001b[0m\u001b[0;34m\u001b[0m\u001b[0m\n",
      "\u001b[0;32m/tmp/ipykernel_113282/472232161.py\u001b[0m in \u001b[0;36mread_pickle\u001b[0;34m(file_path)\u001b[0m\n\u001b[1;32m      1\u001b[0m \u001b[0;32mdef\u001b[0m \u001b[0mread_pickle\u001b[0m\u001b[0;34m(\u001b[0m\u001b[0mfile_path\u001b[0m\u001b[0;34m:\u001b[0m \u001b[0mstr\u001b[0m\u001b[0;34m)\u001b[0m \u001b[0;34m->\u001b[0m \u001b[0mAny\u001b[0m\u001b[0;34m:\u001b[0m\u001b[0;34m\u001b[0m\u001b[0;34m\u001b[0m\u001b[0m\n\u001b[1;32m      2\u001b[0m         \u001b[0;32mwith\u001b[0m \u001b[0mopen\u001b[0m\u001b[0;34m(\u001b[0m\u001b[0mfile_path\u001b[0m\u001b[0;34m,\u001b[0m \u001b[0;34m\"rb\"\u001b[0m\u001b[0;34m)\u001b[0m \u001b[0;32mas\u001b[0m \u001b[0mhandle\u001b[0m\u001b[0;34m:\u001b[0m\u001b[0;34m\u001b[0m\u001b[0;34m\u001b[0m\u001b[0m\n\u001b[0;32m----> 3\u001b[0;31m                 \u001b[0;32mreturn\u001b[0m \u001b[0mpickle\u001b[0m\u001b[0;34m.\u001b[0m\u001b[0mload\u001b[0m\u001b[0;34m(\u001b[0m\u001b[0mhandle\u001b[0m\u001b[0;34m)\u001b[0m\u001b[0;34m\u001b[0m\u001b[0;34m\u001b[0m\u001b[0m\n\u001b[0m",
      "\u001b[0;31mKeyboardInterrupt\u001b[0m: "
     ]
    }
   ],
   "source": [
    "DATASET_NAMES = [\"cfq\", \"cogs\", \"pcfg\"] #, \"scan_length\", \"scan_jump\", \"pcfg\"\n",
    "METRICS = [\"Inverse PPL\", \"BLEU\"] #  \"CHIA\",\n",
    "CRITERIA = [\"Ambiguous\", \"Easy to Learn\", \"Hard to Learn\"]\n",
    "CONVERGE_EPOCHS = [20, 10, 110] # , 30, 30, 140\n",
    "MIN_EPOCHS = [3, 3, 44]\n",
    "\n",
    "for CONVERGE_EPOCH, MIN_EPOCH, DATASET_NAME in zip(CONVERGE_EPOCHS, MIN_EPOCHS, DATASET_NAMES):\n",
    "    OUTPUTS_PATH = outputs_path(DATASET_NAME)\n",
    "    idx_dict, i2s = get_scores(OUTPUTS_PATH, CONVERGE_EPOCH, STRING_TRUNCATE, min_epoch=MIN_EPOCH)\n",
    "    df = calculate_statistics(CONVERGE_EPOCH, idx_dict, i2s)\n",
    "    for METRIC in METRICS:\n",
    "        for CRITERION in CRITERIA:\n",
    "            print(METRIC, CRITERION)\n",
    "            idx_fname = create_fname(METRIC, CRITERION, CONVERGE_EPOCH)\n",
    "            subset_df = choose_subset(df, METRIC, CRITERION, DATASET_NAME, idx_fname)"
   ]
  },
  {
   "cell_type": "code",
   "execution_count": null,
   "id": "14633039-55c0-4539-ac5d-a2d34a9325ce",
   "metadata": {},
   "outputs": [],
   "source": [
    "DATASET_NAME = \"cfq\"\n",
    "OUTPUTS_PATH = outputs_path(DATASET_NAME)\n",
    "METRIC = \"Inverse PPL\"\n",
    "CRITERIA = \"Hard to Learn\"\n",
    "CONVERGE_EPOCH = 20\n",
    "\n",
    "idx_dict, i2s = get_scores(OUTPUTS_PATH, CONVERGE_EPOCH, STRING_TRUNCATE)\n",
    "df = calculate_statistics(CONVERGE_EPOCH, idx_dict, i2s)\n",
    "idx_fname = create_fname(METRIC, CRITERIA, CONVERGE_EPOCH)\n",
    "subset_df = choose_subset(df, METRIC, CRITERIA, DATASET_NAME, idx_fname)"
   ]
  },
  {
   "cell_type": "code",
   "execution_count": null,
   "id": "4b307cea-bf3a-4291-a28f-0bfb784492a0",
   "metadata": {},
   "outputs": [],
   "source": [
    "subset_df.head()"
   ]
  },
  {
   "cell_type": "code",
   "execution_count": null,
   "id": "b6c15199-469b-4ba8-b5e2-81567eeff743",
   "metadata": {},
   "outputs": [],
   "source": [
    "sorted_idx = subset_df[\"Index\"].tolist()\n",
    "sorted_idx = [int(i) for i in sorted_idx]\n",
    "sorted_idx[:50]"
   ]
  },
  {
   "cell_type": "code",
   "execution_count": null,
   "id": "b78fb5ff-7bef-4f6b-aa8b-8e867da6b976",
   "metadata": {},
   "outputs": [],
   "source": [
    "DATASET_NAME = \"cogs\"\n",
    "OUTPUTS_PATH = outputs_path(DATASET_NAME)\n",
    "\n",
    "METRICS = [\"Inverse PPL\"]#, \"CHIA\"]\n",
    "CRITERIA = [\"Hard to Learn\", \"Ambiguous\", \"Easy to Learn\"] #, \"Ambiguous\",  \"Random\"]\n",
    "COMBINED_CRITERIA = list(itertools.combinations([\"Hard to Learn\", \"Ambiguous\", \"Easy to Learn\"], 2))\n",
    "RATIOS = [0.33, 0.5]\n",
    "CONVERGE_EPOCHS = [7]\n",
    "\n",
    "for RATIO in RATIOS:\n",
    "    for CONVERGE_EPOCH in CONVERGE_EPOCHS:\n",
    "        idx_dict, i2s = get_scores(OUTPUTS_PATH, CONVERGE_EPOCH, STRING_TRUNCATE)\n",
    "        df = calculate_statistics(CONVERGE_EPOCH, idx_dict, i2s)\n",
    "        for METRIC in METRICS:\n",
    "            merge_dfs = []\n",
    "            for CRITERION in CRITERIA:\n",
    "                idx_fname = create_ratio_fname(METRIC, CRITERION, CONVERGE_EPOCH, RATIO)\n",
    "                subset_df = choose_subset(df, METRIC, CRITERION, DATASET_NAME, idx_fname, ratio=RATIO)\n",
    "                merge_df = pd.merge(df, subset_df, on=[\"Index\", \"In\", \"Out\", \"In abbv.\", \"Out abbv.\", \"In Len\", \"Out Len\", \"In Rarity\", \"Out Rarity\", \\\n",
    "                                                       'Confidence - Inverse PPL', 'Variability - Inverse PPL', \\\n",
    "                                                        'Confidence - CHIA', 'Variability - CHIA', \\\n",
    "                                                        'Confidence - BLEU', 'Variability - BLEU'], indicator=f\"merge_{crit2abv[CRITERION]}\", how='outer')\n",
    "                # assert len(df) == len(merge_df), f\"Original and merged dataset sizes do not match!: Original size: {len(df)}, Merged size: {len(merge_df)}\"\n",
    "                # plot(merge_df, plot_type=\"inv_ppl\")\n",
    "                merge_dfs.append(merge_df)\n",
    "                # desc_df = subset_df.describe()\n",
    "                # print(f\"{METRIC} - {CRITERION}: \", f'In Len: {desc_df[\"In Len\"][1]:.2f}, Out Len: {desc_df[\"Out Len\"][1]:.2f}, In Rarity: {desc_df[\"In Rarity\"][1]:.2f}, Out Rarity: {desc_df[\"Out Rarity\"][1]:.2f}')\n",
    "\n",
    "            merge_df = merge_dfs[0]\n",
    "            for i in range(1, len(merge_dfs)):\n",
    "                merge_df = pd.merge(merge_df, merge_dfs[i], on=[\"Index\", \"In\", \"Out\", \"In abbv.\", \"Out abbv.\", \"In Len\", \"Out Len\", \"In Rarity\", \"Out Rarity\", \\\n",
    "                                                        'Confidence - Inverse PPL', 'Variability - Inverse PPL', \\\n",
    "                                                        'Confidence - CHIA', 'Variability - CHIA', \\\n",
    "                                                        'Confidence - BLEU', 'Variability - BLEU'], how='outer')\n",
    "                #merge_subset_df[\"_merge\"] = merge_subset_df[\"_merge\"].cat.remove_categories(\"right_only\")\n",
    "                print(merge_df.columns)\n",
    "\n",
    "            merge_df[\"combined\"] = merge_df[\"merge_ambiguous\"].astype(str) + merge_df[\"merge_easy_to_learn\"].astype(str) + merge_df[\"merge_hard_to_learn\"].astype(str)\n",
    "            plot(merge_df, plot_type=\"inv_ppl\", color_column=\"combined\")"
   ]
  },
  {
   "cell_type": "code",
   "execution_count": null,
   "id": "883ded4f-6ad1-45c3-823e-0609df0ac4f3",
   "metadata": {
    "tags": []
   },
   "outputs": [],
   "source": [
    "DATASET_NAME = \"cogs\"\n",
    "OUTPUTS_PATH = outputs_path(DATASET_NAME)\n",
    "METRIC = \"CHIA\"\n",
    "CRITERIA = \"Hard to Learn\"\n",
    "CONVERGE_EPOCH = 10\n",
    "\n",
    "idx_dict, i2s = get_scores(OUTPUTS_PATH, CONVERGE_EPOCH, STRING_TRUNCATE)\n",
    "df = calculate_statistics(CONVERGE_EPOCH, idx_dict, i2s)\n",
    "idx_fname = create_fname(METRIC, CRITERIA, CONVERGE_EPOCH)\n",
    "subset_df = choose_subset(df, METRIC, CRITERIA, DATASET_NAME, idx_fname)"
   ]
  },
  {
   "cell_type": "code",
   "execution_count": null,
   "id": "0597be64-61b1-487e-9878-d8804aff2d05",
   "metadata": {},
   "outputs": [],
   "source": [
    "DATASET_NAME = \"cogs\"\n",
    "OUTPUTS_PATH = outputs_path(DATASET_NAME)\n",
    "METRICS = [\"Inverse PPL\"] #[\"CHIA\", \"BLEU\"]\n",
    "CRITERIA = [\"Hard to Learn\", \"Ambiguous\", \"Easy to Learn\", \"Random\"]\n",
    "COMBINED_CRITERIA = list(itertools.combinations([\"Hard to Learn\", \"Ambiguous\", \"Easy to Learn\"], 2))\n",
    "RATIOS = [0.5]\n",
    "CONVERGE_EPOCHS = [16]\n",
    "\n",
    "for RATIO in RATIOS:\n",
    "    for CONVERGE_EPOCH in CONVERGE_EPOCHS:\n",
    "        idx_dict, i2s = get_scores(OUTPUTS_PATH, CONVERGE_EPOCH, STRING_TRUNCATE, min_epoch=6)\n",
    "        df = calculate_statistics(CONVERGE_EPOCH, idx_dict, i2s)\n",
    "        for METRIC in METRICS:\n",
    "            for CRITERION in CRITERIA:\n",
    "                idx_fname = create_ratio_fname(METRIC, CRITERION, CONVERGE_EPOCH, RATIO)\n",
    "                subset_df = choose_subset(df, METRIC, CRITERION, DATASET_NAME, idx_fname, ratio=RATIO)"
   ]
  },
  {
   "cell_type": "code",
   "execution_count": null,
   "id": "695afffb-e198-4d06-9ecf-5ad749509664",
   "metadata": {},
   "outputs": [],
   "source": [
    "df.describe()"
   ]
  },
  {
   "cell_type": "code",
   "execution_count": null,
   "id": "09b9d900-82eb-4167-bb69-acc1b3da5690",
   "metadata": {},
   "outputs": [],
   "source": [
    "subset_df.describe()"
   ]
  },
  {
   "cell_type": "code",
   "execution_count": null,
   "id": "8a91df2e-2ecb-4d10-a9da-d12b559badf7",
   "metadata": {},
   "outputs": [],
   "source": [
    "DATASET_NAME = \"cfq\"\n",
    "OUTPUTS_PATH = outputs_path(DATASET_NAME)\n",
    "\n",
    "METRICS = [\"Inverse PPL\"]#, \"CHIA\"]\n",
    "CRITERIA = [\"Hard to Learn\", \"Ambiguous\", \"Easy to Learn\"] #, \"Ambiguous\",  \"Random\"]\n",
    "COMBINED_CRITERIA = list(itertools.combinations([\"Hard to Learn\", \"Ambiguous\", \"Easy to Learn\"], 2))\n",
    "RATIOS = [0.33, 0.5]\n",
    "CONVERGE_EPOCHS = [20]\n",
    "\n",
    "for RATIO in RATIOS:\n",
    "    for CONVERGE_EPOCH in CONVERGE_EPOCHS:\n",
    "        idx_dict, i2s = get_scores(OUTPUTS_PATH, CONVERGE_EPOCH, STRING_TRUNCATE)\n",
    "        df = calculate_statistics(CONVERGE_EPOCH, idx_dict, i2s)\n",
    "        for METRIC in METRICS:\n",
    "            merge_dfs = []\n",
    "            for CRITERION in CRITERIA:\n",
    "                idx_fname = create_ratio_fname(METRIC, CRITERION, CONVERGE_EPOCH, RATIO)\n",
    "                subset_df = choose_subset(df, METRIC, CRITERION, DATASET_NAME, idx_fname, ratio=RATIO)\n",
    "                merge_df = pd.merge(df, subset_df, on=[\"Index\", \"In\", \"Out\", \"In abbv.\", \"Out abbv.\", \"In Len\", \"Out Len\", \"In Rarity\", \"Out Rarity\", \\\n",
    "                                                       'Confidence - Inverse PPL', 'Variability - Inverse PPL', \\\n",
    "                                                        'Confidence - CHIA', 'Variability - CHIA', \\\n",
    "                                                        'Confidence - BLEU', 'Variability - BLEU'], indicator=f\"merge_{crit2abv[CRITERION]}\", how='outer')\n",
    "                # assert len(df) == len(merge_df), f\"Original and merged dataset sizes do not match!: Original size: {len(df)}, Merged size: {len(merge_df)}\"\n",
    "                # plot(merge_df, plot_type=\"inv_ppl\")\n",
    "                merge_dfs.append(merge_df)\n",
    "                # desc_df = subset_df.describe()\n",
    "                # print(f\"{METRIC} - {CRITERION}: \", f'In Len: {desc_df[\"In Len\"][1]:.2f}, Out Len: {desc_df[\"Out Len\"][1]:.2f}, In Rarity: {desc_df[\"In Rarity\"][1]:.2f}, Out Rarity: {desc_df[\"Out Rarity\"][1]:.2f}')\n",
    "\n",
    "            merge_df = merge_dfs[0]\n",
    "            for i in range(1, len(merge_dfs)):\n",
    "                merge_df = pd.merge(merge_df, merge_dfs[i], on=[\"Index\", \"In\", \"Out\", \"In abbv.\", \"Out abbv.\", \"In Len\", \"Out Len\", \"In Rarity\", \"Out Rarity\", \\\n",
    "                                                        'Confidence - Inverse PPL', 'Variability - Inverse PPL', \\\n",
    "                                                        'Confidence - CHIA', 'Variability - CHIA', \\\n",
    "                                                        'Confidence - BLEU', 'Variability - BLEU'], how='outer')\n",
    "                #merge_subset_df[\"_merge\"] = merge_subset_df[\"_merge\"].cat.remove_categories(\"right_only\")\n",
    "                print(merge_df.columns)\n",
    "\n",
    "            merge_df[\"combined\"] = merge_df[\"merge_ambiguous\"].astype(str) + merge_df[\"merge_easy_to_learn\"].astype(str) + merge_df[\"merge_hard_to_learn\"].astype(str)\n",
    "            plot(merge_df, plot_type=\"inv_ppl\", color_column=\"combined\")"
   ]
  },
  {
   "cell_type": "code",
   "execution_count": null,
   "id": "c78eecfc-ee35-49bd-9694-12fd04eb64a2",
   "metadata": {},
   "outputs": [],
   "source": [
    "DATASET_NAME = \"cfq\"\n",
    "OUTPUTS_PATH = outputs_path(DATASET_NAME)\n",
    "METRICS = [\"BLEU\"] #[\"Inverse PPL\", \"CHIA\"]\n",
    "CRITERIA = [\"Hard to Learn\", \"Ambiguous\", \"Easy to Learn\"] #, \"Ambiguous\",  \"Random\"]\n",
    "COMBINED_CRITERIA = list(itertools.combinations([\"Hard to Learn\", \"Ambiguous\", \"Easy to Learn\"], 2))\n",
    "RATIOS = [0.5]\n",
    "CONVERGE_EPOCHS = [20]\n",
    "\n",
    "for RATIO in RATIOS:\n",
    "    for CONVERGE_EPOCH in CONVERGE_EPOCHS:\n",
    "        idx_dict, i2s = get_scores(OUTPUTS_PATH, CONVERGE_EPOCH, STRING_TRUNCATE, min_epoch=3)\n",
    "        df = calculate_statistics(CONVERGE_EPOCH, idx_dict, i2s)\n",
    "        for METRIC in METRICS:\n",
    "            for CRITERION in CRITERIA:\n",
    "                idx_fname = create_ratio_fname(METRIC, CRITERION, CONVERGE_EPOCH, RATIO)\n",
    "                subset_df = choose_subset(df, METRIC, CRITERION, DATASET_NAME, idx_fname, ratio=RATIO)"
   ]
  },
  {
   "cell_type": "code",
   "execution_count": null,
   "id": "2cf6b209-293d-450f-9ad1-3cfacef2afb2",
   "metadata": {},
   "outputs": [],
   "source": [
    "merge_df[\"combined\"].unique()"
   ]
  },
  {
   "cell_type": "code",
   "execution_count": null,
   "id": "420f4708-cc74-4a4f-85d5-6b9f25d01da4",
   "metadata": {},
   "outputs": [],
   "source": []
  },
  {
   "cell_type": "code",
   "execution_count": null,
   "id": "eeddcebe-c42a-478a-8a46-01403d42d9a0",
   "metadata": {},
   "outputs": [],
   "source": [
    "DATASET_NAME = \"cfq\"\n",
    "OUTPUTS_PATH = outputs_path(DATASET_NAME)\n",
    "\n",
    "METRICS = [\"Inverse PPL\", \"CHIA\"]\n",
    "CRITERIA = [\"Hard to Learn\", \"Easy to Learn\", \"Ambiguous\",  \"Random\"]\n",
    "COMBINED_CRITERIA = list(itertools.combinations([\"Hard to Learn\", \"Ambiguous\", \"Easy to Learn\"], 2))\n",
    "CONVERGE_EPOCH = 20\n",
    "\n",
    "for METRIC in METRICS:\n",
    "    for CRITERIA in COMBINED_CRITERIA:\n",
    "        subset_dfs = []\n",
    "        for CRITERION in CRITERIA:\n",
    "            idx_dict, i2s = get_scores(OUTPUTS_PATH, CONVERGE_EPOCH, STRING_TRUNCATE)\n",
    "            df = calculate_statistics(CONVERGE_EPOCH, idx_dict, i2s)\n",
    "            idx_fname = create_fname(METRIC, CRITERION, CONVERGE_EPOCH)\n",
    "            subset_df = choose_subset(df, METRIC, CRITERION, DATASET_NAME, idx_fname, write=False)\n",
    "            subset_dfs.append(subset_df)\n",
    "        idx_fname = create_comb_fname(METRIC, CRITERIA[0], CRITERIA[1], CONVERGE_EPOCH)\n",
    "        combined_set_df = combine_subsets(df, subset_dfs, DATASET_NAME, idx_fname)\n",
    "        \n",
    "        print(len(combined_set_df) / len(df))\n",
    "        desc_df = subset_df.describe()\n",
    "        #print(METRIC, CRITERION, f'In Len Mean: {desc_df[\"In Len\"][1]}', f'Out Len Mean: {desc_df[\"Out Len\"][1]}', f'In Rar Mean: {desc_df[\"In Rarity\"][1]}', f'Out Rar Mean: {desc_df[\"Out Rarity\"][1]}')"
   ]
  },
  {
   "cell_type": "code",
   "execution_count": null,
   "id": "08e52321-9500-4891-b3f0-6e79d108a467",
   "metadata": {},
   "outputs": [],
   "source": [
    "DATASET_NAME = \"cfq\"\n",
    "OUTPUTS_PATH = outputs_path(DATASET_NAME)\n",
    "\n",
    "METRICS = [\"Inverse PPL\", \"CHIA\"]\n",
    "CRITERIA = [\"Hard to Learn\", \"Easy to Learn\", \"Ambiguous\",  \"Random\"]\n",
    "COMBINED_CRITERIA = list(itertools.combinations([\"Hard to Learn\", \"Ambiguous\", \"Easy to Learn\"], 2))\n",
    "CONVERGE_EPOCH = 20\n",
    "\n",
    "for METRIC in METRICS:\n",
    "    for CRITERIA in COMBINED_CRITERIA:\n",
    "        subset_dfs = []\n",
    "        for CRITERION in CRITERIA:\n",
    "            idx_dict, i2s = get_scores(OUTPUTS_PATH, CONVERGE_EPOCH, STRING_TRUNCATE)\n",
    "            df = calculate_statistics(CONVERGE_EPOCH, idx_dict, i2s)\n",
    "            idx_fname = create_fname(METRIC, CRITERION, CONVERGE_EPOCH)\n",
    "            subset_df = choose_subset(df, METRIC, CRITERION, DATASET_NAME, idx_fname, write=False)\n",
    "            subset_dfs.append(subset_df)\n",
    "        idx_fname = create_comb_fname(METRIC, CRITERIA[0], CRITERIA[1], CONVERGE_EPOCH)\n",
    "        combined_set_df = combine_subsets(df, subset_dfs, DATASET_NAME, idx_fname)\n",
    "        \n",
    "        print(len(combined_set_df) / len(df))\n",
    "        desc_df = subset_df.describe()\n",
    "        #print(METRIC, CRITERION, f'In Len Mean: {desc_df[\"In Len\"][1]}', f'Out Len Mean: {desc_df[\"Out Len\"][1]}', f'In Rar Mean: {desc_df[\"In Rarity\"][1]}', f'Out Rar Mean: {desc_df[\"Out Rarity\"][1]}')"
   ]
  },
  {
   "cell_type": "code",
   "execution_count": null,
   "id": "cfa27fba-faa1-484f-b07c-9a0db185e734",
   "metadata": {},
   "outputs": [],
   "source": [
    "subset_df.describe()"
   ]
  },
  {
   "cell_type": "code",
   "execution_count": null,
   "id": "baa9d4c8-eec4-4d68-ad2e-9111397c6953",
   "metadata": {},
   "outputs": [],
   "source": [
    "df.describe()"
   ]
  },
  {
   "cell_type": "code",
   "execution_count": null,
   "id": "6b72b236-10ee-4298-a123-dce854744882",
   "metadata": {},
   "outputs": [],
   "source": [
    "DATASET_NAME = \"scan_length\"\n",
    "OUTPUTS_PATH = outputs_path(DATASET_NAME)\n",
    "METRIC = \"CHIA\"\n",
    "CRITERIA = \"Hard to Learn\"\n",
    "CONVERGE_EPOCH = 30\n",
    "\n",
    "idx_dict, i2s = get_scores(OUTPUTS_PATH, CONVERGE_EPOCH, STRING_TRUNCATE)\n",
    "df = calculate_statistics(CONVERGE_EPOCH, idx_dict, i2s)\n",
    "idx_fname = create_fname(METRIC, CRITERIA, CONVERGE_EPOCH)\n",
    "subset_df = choose_subset(df, METRIC, CRITERIA, DATASET_NAME, idx_fname)"
   ]
  },
  {
   "cell_type": "code",
   "execution_count": null,
   "id": "1b84eee1-dea9-4283-9d3a-aca5858b5cd9",
   "metadata": {},
   "outputs": [],
   "source": [
    "df.describe()"
   ]
  },
  {
   "cell_type": "code",
   "execution_count": null,
   "id": "9fecc0c5-917c-4bc7-82e8-fc9960a8facc",
   "metadata": {},
   "outputs": [],
   "source": [
    "subset_df.describe()"
   ]
  },
  {
   "cell_type": "code",
   "execution_count": null,
   "id": "4a5290f9-8645-4c19-ab8a-a4807b93f3bc",
   "metadata": {},
   "outputs": [],
   "source": [
    "DATASET_NAME = \"scan_jump\"\n",
    "OUTPUTS_PATH = outputs_path(DATASET_NAME)\n",
    "METRIC = \"CHIA\"\n",
    "CRITERIA = \"Hard to Learn\"\n",
    "CONVERGE_EPOCH = 30\n",
    "\n",
    "idx_dict, i2s = get_scores(OUTPUTS_PATH, CONVERGE_EPOCH, STRING_TRUNCATE)\n",
    "df = calculate_statistics(CONVERGE_EPOCH, idx_dict, i2s)\n",
    "idx_fname = create_fname(METRIC, CRITERIA, CONVERGE_EPOCH)\n",
    "subset_df = choose_subset(df, METRIC, CRITERIA, DATASET_NAME, idx_fname)"
   ]
  },
  {
   "cell_type": "code",
   "execution_count": null,
   "id": "db220853-5e76-4f14-a28d-ce15f987b8c8",
   "metadata": {},
   "outputs": [],
   "source": [
    "df.describe()"
   ]
  },
  {
   "cell_type": "code",
   "execution_count": null,
   "id": "5761e02a-6200-4e0e-9aa7-0dcb4652c6da",
   "metadata": {},
   "outputs": [],
   "source": [
    "subset_df.describe()"
   ]
  },
  {
   "cell_type": "code",
   "execution_count": null,
   "id": "d139b1c8-6c44-48a2-aa6e-936c7a156a9f",
   "metadata": {},
   "outputs": [],
   "source": [
    "import gc\n",
    "gc.collect()"
   ]
  },
  {
   "cell_type": "code",
   "execution_count": null,
   "id": "0e0137f9-7d90-4afb-a054-de2cc56e0324",
   "metadata": {},
   "outputs": [],
   "source": [
    "DATASET_NAME = \"pcfg\"\n",
    "OUTPUTS_PATH = outputs_path(DATASET_NAME)\n",
    "METRIC = \"CHIA\"\n",
    "CRITERIA = \"Hard to Learn\"\n",
    "CONVERGE_EPOCH = 140\n",
    "\n",
    "idx_dict, i2s = get_scores(OUTPUTS_PATH, CONVERGE_EPOCH, STRING_TRUNCATE)\n",
    "df = calculate_statistics(CONVERGE_EPOCH, idx_dict, i2s)\n",
    "idx_fname = create_fname(METRIC, CRITERIA, CONVERGE_EPOCH)\n",
    "subset_df = choose_subset(df, METRIC, CRITERIA, DATASET_NAME, idx_fname)"
   ]
  },
  {
   "cell_type": "code",
   "execution_count": null,
   "id": "651b6c1b-9b5e-4cdf-b88c-d86b79dbf281",
   "metadata": {},
   "outputs": [],
   "source": [
    "df.describe()"
   ]
  },
  {
   "cell_type": "code",
   "execution_count": null,
   "id": "b56b342e-9e75-42d5-b608-656081535685",
   "metadata": {},
   "outputs": [],
   "source": [
    "subset_df.describe()"
   ]
  },
  {
   "cell_type": "markdown",
   "id": "53bf9bfb-32c1-468e-9f15-60493c553ec8",
   "metadata": {},
   "source": [
    "subset_df_in = set(subset_df[\"In\"].tolist())\n",
    "subset_df_out = set(subset_df[\"Out\"].tolist())"
   ]
  },
  {
   "cell_type": "markdown",
   "id": "0553192c-6d24-4ad5-9b8f-6b39117d8bb1",
   "metadata": {},
   "source": [
    "subset_pkl = read_pickle(\"../scores/cogs/idx_to_sentences.pickle\")"
   ]
  },
  {
   "cell_type": "markdown",
   "id": "a87a7e7f-5c17-4ec5-8be5-8d01353590ef",
   "metadata": {},
   "source": [
    "subset_pkl_in = []\n",
    "subset_pkl_out = []\n",
    "\n",
    "for i, text in subset_pkl.items():\n",
    "    subset_pkl_in.append(text[\"in\"])\n",
    "    subset_pkl_out.append(text[\"out\"])"
   ]
  },
  {
   "cell_type": "markdown",
   "id": "ab763559-2449-410a-960b-d999ebc0e234",
   "metadata": {},
   "source": [
    "subset_pkl_in = set(subset_pkl_in)\n",
    "subset_pkl_out = set(subset_pkl_out)"
   ]
  },
  {
   "cell_type": "markdown",
   "id": "23edd506-124d-4657-ba1e-906fb731f680",
   "metadata": {},
   "source": [
    "subset_df_in - subset_pkl_in, len(subset_df_in), len(subset_pkl_in)"
   ]
  }
 ],
 "metadata": {
  "kernelspec": {
   "display_name": "Python 3 (ipykernel)",
   "language": "python",
   "name": "python3"
  },
  "language_info": {
   "codemirror_mode": {
    "name": "ipython",
    "version": 3
   },
   "file_extension": ".py",
   "mimetype": "text/x-python",
   "name": "python",
   "nbconvert_exporter": "python",
   "pygments_lexer": "ipython3",
   "version": "3.7.16"
  }
 },
 "nbformat": 4,
 "nbformat_minor": 5
}
